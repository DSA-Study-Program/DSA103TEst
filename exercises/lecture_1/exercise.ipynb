{
 "cells": [
  {
   "cell_type": "markdown",
   "id": "5b769ea5",
   "metadata": {},
   "source": [
    "# Lecture 1: Computational Thinking 1"
   ]
  },
  {
   "cell_type": "markdown",
   "id": "df9abc40",
   "metadata": {},
   "source": [
    "## Key Concept Review"
   ]
  },
  {
   "cell_type": "markdown",
   "id": "b139546a",
   "metadata": {},
   "source": [
    "### String operations\n",
    "\n",
    "Before we begin the exercises, let's review some essential string operations you'll need:\n",
    "\n",
    "#### Looping Over Strings\n",
    "You can loop through each character in a string using a for loop:"
   ]
  },
  {
   "cell_type": "code",
   "execution_count": 1,
   "id": "bc9955cd",
   "metadata": {},
   "outputs": [
    {
     "name": "stdout",
     "output_type": "stream",
     "text": [
      "H\n",
      "2\n",
      "O\n"
     ]
    }
   ],
   "source": [
    "formula = \"H2O\"\n",
    "for character in formula:\n",
    "    print(character)"
   ]
  },
  {
   "cell_type": "markdown",
   "id": "fbcaa475",
   "metadata": {},
   "source": [
    "#### Useful String Methods\n",
    "\n",
    "```python\n",
    "string.isalpha() - returns True if the character is a letter\n",
    "string.isdigit() - returns True if the character is a number\n",
    "string.upper() - converts to uppercase\n",
    "string.lower() - converts to lowercase\n",
    "```\n",
    "\n",
    "Get familiar with these functions by experimenting with them. E.g. what is the output of the following?\n",
    "```python\n",
    "\"H\".isalpha()\n",
    "```"
   ]
  },
  {
   "cell_type": "code",
   "execution_count": null,
   "id": "1c6b66f8",
   "metadata": {},
   "outputs": [],
   "source": []
  },
  {
   "cell_type": "markdown",
   "id": "a6e9b8e0",
   "metadata": {},
   "source": [
    "### String Indexing and Slicing\n",
    "```python\n",
    "pythonformula = \"CH4\"\n",
    "print(formula[0])    # Output: \"C\" (first character)\n",
    "print(formula[1:3])  # Output: \"H4\" (characters from index 1 to 2)\n",
    "print(len(formula))  # Output: 3 (length of string)\n",
    "```\n",
    "Familiarise yourself with these functions.\n"
   ]
  },
  {
   "cell_type": "code",
   "execution_count": null,
   "id": "7868aa00",
   "metadata": {},
   "outputs": [],
   "source": []
  },
  {
   "cell_type": "markdown",
   "id": "a8707694",
   "metadata": {},
   "source": [
    "### Converting Strings to Numbers\n",
    "```python\n",
    "pythonnumber_string = \"42\"\n",
    "number = int(number_string)  # Converts \"42\" to integer 42\n",
    "```\n",
    "\n",
    "Familiarise yourself with these functions."
   ]
  },
  {
   "cell_type": "markdown",
   "id": "730f8866",
   "metadata": {},
   "source": [
    "## Exercise 1: Molecular Formula Parser\n",
    "\n",
    "**Objective:** Write a function that counts the atoms in a simple molecular formula.\n",
    "\n",
    "**Problem:** Create a function called `count_atoms()` that takes a molecular formula as input and returns a dictionary with each element and its count.\n",
    "\n",
    "**Your Task:**\n",
    "- Write a function that loops through each character in the formula\n",
    "- Identify when you encounter a new element (letter)\n",
    "- Check if the next character is a number (if so, that's the count; if not, the count is 1)\n",
    "- Store the results in a dictionary\n",
    "\n",
    "**Hints:**\n",
    "\n",
    "- Use a dictionary to store your results: atom_count = {}\n",
    "- You might need to handle multi-character elements like \"Ca\" or \"Cl\"\n",
    "- Remember that if there's no number after an element, it means there's 1 of that atom\n",
    "\n",
    "**Challenge:** Can you handle two-letter elements like \"Ca\", \"Cl\", \"Na\"?\n"
   ]
  },
  {
   "cell_type": "code",
   "execution_count": 2,
   "id": "77d35dec",
   "metadata": {},
   "outputs": [],
   "source": [
    "from typing import Dict\n",
    "\n",
    "def count_atoms(formula: str) -> Dict[str, int]:\n",
    "    atom_dict = dict()\n",
    "\n",
    "    # Write your code here\n",
    "    \n",
    "    return atom_dict"
   ]
  },
  {
   "cell_type": "markdown",
   "id": "eca1e00e",
   "metadata": {},
   "source": [
    "### Test cases"
   ]
  },
  {
   "cell_type": "code",
   "execution_count": null,
   "id": "3aeb6750",
   "metadata": {},
   "outputs": [],
   "source": [
    "print(count_atoms(\"H2O\"))      # Should output: {\"H\": 2, \"O\": 1}\n",
    "print(count_atoms(\"CH4\"))      # Should output: {\"C\": 1, \"H\": 4}\n",
    "print(count_atoms(\"CaCl2\"))    # Should output: {\"Ca\": 1, \"Cl\": 2}\n",
    "print(count_atoms(\"H2SO4\"))    # Should output: {\"H\": 2, \"S\": 1, \"O\": 4}"
   ]
  },
  {
   "cell_type": "markdown",
   "id": "2ccccb04",
   "metadata": {},
   "source": [
    "## Exercise 2: Chemical Equation Balancer Checker\n",
    "\n",
    "**Objective:** Write a program that checks if a chemical equation is balanced.\n",
    "\n",
    "**Problem:** Create a function called `is_balanced()` that takes a chemical equation string and returns True if balanced, False if not.\n",
    "\n",
    "**Your Task:**\n",
    "- Split the equation at the arrow symbol \"→\" to get reactants and products\n",
    "- For each side, parse the molecules and their coefficients\n",
    "- Count total atoms of each element on both sides\n",
    "- Compare the totals\n",
    "\n",
    "Example Equation Format: \"2H2 + O2 → 2H2O\"\n",
    "\n",
    "**Hints:**\n",
    "\n",
    "- Use equation.split(\"→\") to separate reactants from products\n",
    "- Use side.split(\" + \") to separate individual molecules\n",
    "- You'll need to handle coefficients (numbers in front of molecules)\n",
    "- Reuse your count_atoms() function from Exercise 1!\n",
    "- For molecules with coefficients like \"2H2O\", the coefficient applies to all atoms in that molecule\n",
    "\n",
    "**Steps to Think Through:**\n",
    "\n",
    "- How do you extract the coefficient from \"2H2O\"? (It's everything before the first letter)\n",
    "- How do you multiply the atom counts by the coefficient?\n",
    "- How do you combine counts from multiple molecules on the same side?\n"
   ]
  },
  {
   "cell_type": "code",
   "execution_count": null,
   "id": "47ac7c77",
   "metadata": {},
   "outputs": [],
   "source": [
    "def is_balanced(chem_eq: str) -> bool:\n",
    "    # Write your code here\n",
    "\n"
   ]
  },
  {
   "cell_type": "markdown",
   "id": "70cdedcc",
   "metadata": {},
   "source": [
    "### Test Cases\n"
   ]
  },
  {
   "cell_type": "code",
   "execution_count": null,
   "id": "3acbbf56",
   "metadata": {},
   "outputs": [],
   "source": [
    "print(is_balanced(\"2H2 + O2 → 2H2O\"))           # Should output: True\n",
    "print(is_balanced(\"H2 + O2 → H2O\"))             # Should output: False\n",
    "print(is_balanced(\"CH4 + 2O2 → CO2 + 2H2O\"))    # Should output: True\n",
    "print(is_balanced(\"N2 + H2 → NH3\"))             # Should output: False"
   ]
  },
  {
   "cell_type": "markdown",
   "id": "e8a34c32",
   "metadata": {},
   "source": [
    "## Exercise 3: Reaction Pathway Analyzer\n",
    "\n",
    "**Objective:** Analyze multi-step reaction sequences to find synthesis pathways.\n",
    "\n",
    "**Problem:** Write a program that determines what compounds can be synthesized from starting materials through a series of reactions, and finds a pathway to create a target compound.\n",
    "\n",
    "**Your Task:**\n",
    "Create a function called `find_synthesis_path()` that takes:\n",
    "\n",
    "- A list of starting compounds\n",
    "- A list of reaction equations\n",
    "- A target compound to synthesize\n",
    "\n",
    "The function should return either:\n",
    "\n",
    "- A list of reaction steps that lead to the target compound, OR\n",
    "- A message saying the target cannot be synthesized\n",
    "\n",
    "**Hints:**\n",
    "\n",
    "- Start by creating a set of \"available\" compounds (your starting materials)\n",
    "- For each reaction, check if you have all the reactants needed\n",
    "- If you can perform a reaction, add the products to your available compounds\n",
    "- Keep track of which reactions you've used in what order\n",
    "- Continue until you either find the target or can't make any new compounds\n",
    "\n",
    "#### Computational Thinking:\n",
    "\n",
    "**Decomposition:** Break this into smaller problems\n",
    "\n",
    "- Parse reaction equations\n",
    "- Track available compounds\n",
    "- Check if reactions can be performed\n",
    "- Record the synthesis pathway\n",
    "\n",
    "\n",
    "**Pattern Recognition:** What patterns do you see?\n",
    "\n",
    "- Each reaction has the same format: \"reactants → products\"\n",
    "- You need to repeatedly check if new reactions become possible\n",
    "\n",
    "\n",
    "**Algorithm Design:** What's your step-by-step approach?\n",
    "\n",
    "- Initialize available compounds\n",
    "- Loop: try each reaction, see if possible, update available compounds\n",
    "- Stop when target is found or no progress is made\n",
    "\n",
    "\n",
    "**Abstraction:** What functions might be helpful?\n",
    "\n",
    "- A function to parse a single reaction equation\n",
    "- A function to check if a reaction is possible with current compounds\n",
    "- A function to update available compounds after a reaction\n",
    "\n"
   ]
  },
  {
   "cell_type": "code",
   "execution_count": null,
   "id": "31f54201",
   "metadata": {},
   "outputs": [],
   "source": [
    "from typing import List\n",
    "\n",
    "def find_synthesis_path(starting_materials: List[str], reactions: List[str], target: str) -> List[str] | str:\n",
    "\n",
    "    # Write your code here\n",
    "\n",
    "    "
   ]
  },
  {
   "cell_type": "markdown",
   "id": "8841483b",
   "metadata": {},
   "source": [
    "### Test Cases"
   ]
  },
  {
   "cell_type": "code",
   "execution_count": null,
   "id": "106c1dc0",
   "metadata": {},
   "outputs": [],
   "source": [
    "# Basic Multi-Step Synthesis\n",
    "\n",
    "starting_materials = [\"H2\", \"O2\", \"N2\"]\n",
    "reactions = [\n",
    "    \"2H2 + O2 → 2H2O\",\n",
    "    \"N2 + 3H2 → 2NH3\", \n",
    "    \"NH3 + H2O → NH4OH\"\n",
    "]\n",
    "target = \"NH4OH\"\n",
    "\n",
    "result = find_synthesis_path(starting_materials, reactions, target)\n",
    "print(result)\n",
    "# Expected: Should find a path using H2 + N2 → NH3, then NH3 + H2O → NH4OH"
   ]
  },
  {
   "cell_type": "code",
   "execution_count": null,
   "id": "bf854855",
   "metadata": {},
   "outputs": [],
   "source": [
    "# Direct Synthesis (One Step)\n",
    "\n",
    "starting_materials = [\"Na\", \"Cl2\"]\n",
    "reactions = [\n",
    "    \"2Na + Cl2 → 2NaCl\",\n",
    "    \"NaCl + H2O → NaOH + HCl\"\n",
    "]\n",
    "target = \"NaCl\"\n",
    "\n",
    "result = find_synthesis_path(starting_materials, reactions, target)\n",
    "print(result)\n",
    "# Expected: Should find direct synthesis in one step"
   ]
  },
  {
   "cell_type": "code",
   "execution_count": null,
   "id": "0c1de762",
   "metadata": {},
   "outputs": [],
   "source": [
    "# Impossible Synthesis\n",
    "\n",
    "starting_materials = [\"H2\", \"O2\"]\n",
    "reactions = [\n",
    "    \"2H2 + O2 → 2H2O\",\n",
    "    \"N2 + 3H2 → 2NH3\"  # But we don't have N2!\n",
    "]\n",
    "target = \"NH3\"\n",
    "\n",
    "result = find_synthesis_path(starting_materials, reactions, target)\n",
    "print(result)\n",
    "# Expected: Should return message that NH3 cannot be synthesized"
   ]
  },
  {
   "cell_type": "code",
   "execution_count": null,
   "id": "c5ce6995",
   "metadata": {},
   "outputs": [],
   "source": [
    "# Multiple Pathway Options\n",
    "starting_materials = [\"C\", \"H2\", \"O2\", \"H2O\"]\n",
    "reactions = [\n",
    "    \"C + O2 → CO2\",\n",
    "    \"2H2 + O2 → 2H2O\",\n",
    "    \"CO2 + H2O → H2CO3\",\n",
    "    \"C + 2H2 → CH4\",\n",
    "    \"CH4 + 2O2 → CO2 + 2H2O\"\n",
    "]\n",
    "target = \"CO2\"\n",
    "\n",
    "result = find_synthesis_path(starting_materials, reactions, target)\n",
    "print(result)\n",
    "# Expected: Should find one of multiple possible paths to CO2"
   ]
  },
  {
   "cell_type": "code",
   "execution_count": null,
   "id": "dbbedf25",
   "metadata": {},
   "outputs": [],
   "source": [
    "# Long Chain Synthesis\n",
    "starting_materials = [\"Fe\", \"O2\", \"C\"]\n",
    "reactions = [\n",
    "    \"4Fe + 3O2 → 2Fe2O3\",\n",
    "    \"2C + O2 → 2CO\",\n",
    "    \"Fe2O3 + 3CO → 2Fe + 3CO2\",\n",
    "    \"CO2 + C → 2CO\"\n",
    "]\n",
    "target = \"CO2\"\n",
    "\n",
    "result = find_synthesis_path(starting_materials, reactions, target)\n",
    "print(result)\n",
    "# Expected: Should find the multi-step path involving iron oxide formation and reduction"
   ]
  }
 ],
 "metadata": {
  "kernelspec": {
   "display_name": "uv",
   "language": "python",
   "name": "python3"
  },
  "language_info": {
   "codemirror_mode": {
    "name": "ipython",
    "version": 3
   },
   "file_extension": ".py",
   "mimetype": "text/x-python",
   "name": "python",
   "nbconvert_exporter": "python",
   "pygments_lexer": "ipython3",
   "version": "3.11.0"
  }
 },
 "nbformat": 4,
 "nbformat_minor": 5
}
