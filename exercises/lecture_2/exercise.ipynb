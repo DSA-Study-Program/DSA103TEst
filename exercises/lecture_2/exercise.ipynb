{
 "cells": [
  {
   "cell_type": "markdown",
   "id": "e03d709a",
   "metadata": {},
   "source": [
    "# Lecture 2: Computational Thinking 2"
   ]
  },
  {
   "cell_type": "markdown",
   "id": "27497d84",
   "metadata": {},
   "source": [
    "## Key Concepts Review"
   ]
  },
  {
   "cell_type": "markdown",
   "id": "5b2184cc",
   "metadata": {},
   "source": [
    "### Binary Numbers and Float Precision\n",
    "\n",
    "Computers store numbers in binary (base 2), which can cause precision issues with decimal numbers:\n",
    "\n",
    "```python\n",
    "# Float precision issues\n",
    "print(0.1 + 0.2)  # Output: 0.30000000000000004 (not exactly 0.3!)\n",
    "print(0.1 + 0.2 == 0.3)  # Output: False\n",
    "\n",
    "# Better way to compare floats\n",
    "def close_enough(a, b, tolerance=1e-9):\n",
    "    return abs(a - b) < tolerance\n",
    "\n",
    "print(close_enough(0.1 + 0.2, 0.3))  # Output: True\n",
    "```"
   ]
  },
  {
   "cell_type": "markdown",
   "id": "a267f99b",
   "metadata": {
    "vscode": {
     "languageId": "plaintext"
    }
   },
   "source": [
    "### Objects and Types\n",
    "Everything in Python is an object with a type:\n",
    "\n",
    "```python\n",
    "# Scalar types (single values)\n",
    "concentration = 0.5      # float\n",
    "num_atoms = 6           # int\n",
    "element = \"H\"           # string\n",
    "is_stable = True        # boolean\n",
    "\n",
    "# Non-scalar types (collections)\n",
    "concentrations = [0.1, 0.2, 0.3]     # list\n",
    "compound_data = {\"name\": \"water\", \"formula\": \"H2O\"}  # dictionary\n",
    "\n",
    "# Check types\n",
    "print(type(concentration))  # <class 'float'>\n",
    "print(type(concentrations)) # <class 'list'>\n",
    "\n",
    "# Type comparison\n",
    "print(isinstance(concentration, float)) # True\n",
    "print(isinstance(concentration, list)) # False\n",
    "```\n"
   ]
  },
  {
   "cell_type": "markdown",
   "id": "758a7dec",
   "metadata": {
    "vscode": {
     "languageId": "plaintext"
    }
   },
   "source": [
    "### Useful Operators\n",
    "\n",
    "```python\n",
    "# Comparison operators that handle precision\n",
    "import math\n",
    "math.isclose(0.1 + 0.2, 0.3)  # Better than == for floats\n",
    "\n",
    "# Membership operators\n",
    "\"H\" in [\"H\", \"O\", \"N\"]  # True\n",
    "\"formula\" in {\"name\": \"water\", \"formula\": \"H2O\"}  # True\n",
    "```"
   ]
  },
  {
   "cell_type": "markdown",
   "id": "1533a045",
   "metadata": {},
   "source": [
    "## Exercise 1: Concentration Precision Checker\n",
    "\n",
    "**Objective:** Understand float precision issues when working with chemical concentrations.\n",
    "\n",
    "**Problem:** In analytical chemistry, you often need to compare measured concentrations, but computer precision can cause issues. Write a function that safely compares concentrations and handles rounding errors.\n",
    "\n",
    "**Your Task:** Create a function called `concentrations_equal()` that:\n",
    "\n",
    "- Takes two concentration values and an optional tolerance (default 1e-6)\n",
    "- Returns True if the concentrations are \"close enough\" considering float precision\n",
    "\n",
    "Also create a function `round_to_significant_figures()` that rounds a number to a given number of significant figures\n",
    "\n",
    "**Hints:**\n",
    "- Use abs(a - b) < tolerance for comparison\n",
    "- For significant figures, you might need to use logarithms: import math then math.log10()\n",
    "- Think about how to handle very small numbers (like 0.00123)\n"
   ]
  },
  {
   "cell_type": "code",
   "execution_count": null,
   "id": "bd5b12a9",
   "metadata": {},
   "outputs": [],
   "source": [
    "def concentrations_equal(conc1: float, conc2: float) -> bool:\n",
    "    # Write your code here\n"
   ]
  },
  {
   "cell_type": "code",
   "execution_count": null,
   "id": "cbf68b10",
   "metadata": {},
   "outputs": [],
   "source": [
    "def round_to_significant_figures(value: float, precision: int) -> float:\n",
    "    # Write your code here\n"
   ]
  },
  {
   "cell_type": "markdown",
   "id": "3b5a927d",
   "metadata": {
    "vscode": {
     "languageId": "plaintext"
    }
   },
   "source": [
    "### Test Cases: Concentration comparison\n"
   ]
  },
  {
   "cell_type": "code",
   "execution_count": null,
   "id": "4d94c271",
   "metadata": {},
   "outputs": [],
   "source": [
    "print(concentrations_equal(0.1 + 0.2, 0.3))           # Should be True\n",
    "print(concentrations_equal(0.1001, 0.1002, 1e-3))     # Should be True  \n",
    "print(concentrations_equal(0.1001, 0.1002, 1e-5))     # Should be False"
   ]
  },
  {
   "cell_type": "markdown",
   "id": "aa1f5b7e",
   "metadata": {},
   "source": [
    "### Test Cases: Rounding"
   ]
  },
  {
   "cell_type": "code",
   "execution_count": null,
   "id": "28f7df97",
   "metadata": {},
   "outputs": [],
   "source": [
    "print(round_to_significant_figures(0.123456, 3))       # Should be 0.123\n",
    "print(round_to_significant_figures(1234.56, 3))        # Should be 1230.0\n",
    "print(round_to_significant_figures(0.00123456, 3))     # Should be 0.00123"
   ]
  },
  {
   "cell_type": "markdown",
   "id": "392eef00",
   "metadata": {},
   "source": [
    "## Exercise 2: Reaction Optimization Calculator\n",
    "\n",
    "**Objective:** Use optimization thinking to find the best reaction conditions while working with different data types.\n",
    "\n",
    "**Problem:** You're optimizing a chemical reaction by testing different temperatures and catalyst amounts. Write a program that finds the optimal conditions from experimental data.\n",
    "\n",
    "**Your Task:** Create functions that:\n",
    "\n",
    "- Store experimental data as a list of dictionaries\n",
    "- Find the conditions that give maximum yield\n",
    "- Find all conditions that give yield within a certain percentage of the maximum\n",
    "- Calculate the cost-effectiveness (yield per unit cost) for each condition\n",
    "\n",
    "**Data Structure:**"
   ]
  },
  {
   "cell_type": "code",
   "execution_count": 3,
   "id": "88ca7f43",
   "metadata": {},
   "outputs": [],
   "source": [
    "# Each experiment is a dictionary\n",
    "experimental_data = [\n",
    "    {\"temperature\": 25.0, \"catalyst\": 0.1, \"yield\": 45.2, \"cost\": 10.5},\n",
    "    {\"temperature\": 50.0, \"catalyst\": 0.1, \"yield\": 67.8, \"cost\": 12.0},\n",
    "    {\"temperature\": 75.0, \"catalyst\": 0.1, \"yield\": 82.3, \"cost\": 15.5},\n",
    "    {\"temperature\": 100.0, \"catalyst\": 0.1, \"yield\": 78.9, \"cost\": 20.0},\n",
    "    {\"temperature\": 50.0, \"catalyst\": 0.2, \"yield\": 75.4, \"cost\": 18.0},\n",
    "    {\"temperature\": 75.0, \"catalyst\": 0.2, \"yield\": 89.1, \"cost\": 22.5}\n",
    "]"
   ]
  },
  {
   "cell_type": "markdown",
   "id": "1a0a9f0e",
   "metadata": {},
   "source": [
    "**Functions to Write:** "
   ]
  },
  {
   "cell_type": "code",
   "execution_count": null,
   "id": "3e5ef0fb",
   "metadata": {},
   "outputs": [],
   "source": [
    "from typing import List, Dict\n",
    "\n",
    "def find_max_yield_condition(data: List[Dict[str, float]]) -> Dict[str, float]:\n",
    "    # Return the dictionary with highest yield"
   ]
  },
  {
   "cell_type": "code",
   "execution_count": null,
   "id": "7d4b08c4",
   "metadata": {},
   "outputs": [],
   "source": [
    "from typing import List, Dict\n",
    "\n",
    "def find_conditions_near_optimum(data: List[Dict[str, float]], percentage: int = 10) -> List[Dict[str, float]]:\n",
    "    # Return all conditions within percentage% of max yield\n",
    "    "
   ]
  },
  {
   "cell_type": "code",
   "execution_count": null,
   "id": "8449d389",
   "metadata": {},
   "outputs": [],
   "source": [
    "from typing import List, Dict\n",
    "\n",
    "def calculate_cost_effectiveness(data: List[Dict[str, float]]) -> List[Dict[str, float]]:\n",
    "    # Add \"efficiency\" key to each dictionary (yield/cost)\n",
    "    # Return the modified data\n",
    "    "
   ]
  },
  {
   "cell_type": "code",
   "execution_count": null,
   "id": "076afe5f",
   "metadata": {},
   "outputs": [],
   "source": [
    "from typing import List, Dict\n",
    "\n",
    "def optimize_by_criteria(data: List[Dict[str, float]], criteria: str = \"yield\") -> List[Dict[str, float]]:\n",
    "    # Return best condition based on \"yield\", \"cost\", or \"efficiency\"\n",
    "    "
   ]
  },
  {
   "cell_type": "markdown",
   "id": "2c8d9cb6",
   "metadata": {},
   "source": [
    "### Test case:"
   ]
  },
  {
   "cell_type": "code",
   "execution_count": null,
   "id": "1fcb631b",
   "metadata": {},
   "outputs": [],
   "source": [
    "# Basic Optimization\n",
    "best_yield = find_max_yield_condition(experimental_data)\n",
    "print(f\"Best yield: {best_yield}\")\n",
    "# Expected: Should return the condition with 89.1% yield\n",
    "\n",
    "near_optimum = find_conditions_near_optimum(experimental_data, 15)\n",
    "print(f\"Conditions within 15% of optimum: {len(near_optimum)} found\")\n",
    "# Expected: Should find multiple conditions within 15% of 89.1%\n",
    "\n",
    "data_with_efficiency = calculate_cost_effectiveness(experimental_data)\n",
    "best_efficiency = optimize_by_criteria(data_with_efficiency, \"efficiency\")\n",
    "print(f\"Most cost-effective: {best_efficiency}\")\n"
   ]
  }
 ],
 "metadata": {
  "kernelspec": {
   "display_name": "uv",
   "language": "python",
   "name": "python3"
  },
  "language_info": {
   "codemirror_mode": {
    "name": "ipython",
    "version": 3
   },
   "file_extension": ".py",
   "mimetype": "text/x-python",
   "name": "python",
   "nbconvert_exporter": "python",
   "pygments_lexer": "ipython3",
   "version": "3.11.0"
  }
 },
 "nbformat": 4,
 "nbformat_minor": 5
}
